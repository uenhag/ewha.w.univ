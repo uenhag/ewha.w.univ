{
  "nbformat": 4,
  "nbformat_minor": 0,
  "metadata": {
    "colab": {
      "provenance": [],
      "name": "dtrobicycle2.ipynb",
      "authorship_tag": "ABX9TyP8PYUXiBQJiiJprFkD6xdY",
      "include_colab_link": true
    },
    "kernelspec": {
      "name": "python3",
      "display_name": "Python 3"
    },
    "language_info": {
      "name": "python"
    }
  },
  "cells": [
    {
      "cell_type": "markdown",
      "metadata": {
        "id": "view-in-github",
        "colab_type": "text"
      },
      "source": [
        "<a href=\"https://colab.research.google.com/github/uenhag/ewha.w.univ/blob/main/dtrobicycle2.ipynb\" target=\"_parent\"><img src=\"https://colab.research.google.com/assets/colab-badge.svg\" alt=\"Open In Colab\"/></a>"
      ]
    },
    {
      "cell_type": "code",
      "source": [
        "import requests\n",
        "url='https://www.dtro.or.kr/open_content_new/ko/OpenApi/bikelist.php?LINE_NUM=1&STD_CODE=117'\n",
        "r = requests.get(url)\n",
        "print(r.text)"
      ],
      "metadata": {
        "colab": {
          "base_uri": "https://localhost:8080/"
        },
        "id": "seycNAsCn3iW",
        "outputId": "8d829834-4864-4179-a2f2-67251ee03944"
      },
      "execution_count": null,
      "outputs": [
        {
          "output_type": "stream",
          "name": "stdout",
          "text": [
            "<html><script lang=javascript>\r\n",
            "var width = window.innerWidth || document.documentElement.clientWidth || document.body.clientWidth;var height = window.innerHeight || document.documentElement.clientHeight || document.body.clientHeight;document.cookie = 'sabFingerPrint=' + width + ',' + height + ',' + window.location.hostname;\r\n",
            "document.cookie = 'sabSignature=NFhBkT0ann4zldP1tBuCEQ==';\r\n",
            "window.location.reload();\r\n",
            "</script></html>\r\n",
            "\n"
          ]
        }
      ]
    },
    {
      "cell_type": "code",
      "source": [
        "from bs4 import BeautifulSoup\n",
        "\n",
        "soup = BeautifulSoup(r.text, features=\"xml\")"
      ],
      "metadata": {
        "id": "TdliDMbZolJt"
      },
      "execution_count": null,
      "outputs": []
    },
    {
      "cell_type": "code",
      "source": [
        "v=\"\"\"This XML file does not appear to have any style information associated with it. The document tree is shown below.\n",
        "<rss xmlns:atom=\"http://www.w3.org/2005/Atom\" xmlns:content=\"http://purl.org/rss/1.0/modules/content/\" version=\"2.0\">\n",
        "<apiDataList>\n",
        "<apiData>\n",
        "<LINE_NUM>1</LINE_NUM>\n",
        "<STD_CODE>117</STD_CODE>\n",
        "<STD_NAME>대곡</STD_NAME>\n",
        "<TOTAL_CNT>8</TOTAL_CNT>\n",
        "<TRBL_CNT>0</TRBL_CNT>\n",
        "<USED_CNT>8</USED_CNT>\n",
        "<DAYRENT_CNT>1</DAYRENT_CNT>\n",
        "<AVL_CNT>7</AVL_CNT>\n",
        "<STD_TEL>644-7723</STD_TEL>\n",
        "</apiData>\n",
        "</apiDataList>\n",
        "</rss>\"\"\""
      ],
      "metadata": {
        "id": "VsXJDTRkurIt"
      },
      "execution_count": null,
      "outputs": []
    },
    {
      "cell_type": "code",
      "source": [
        "print(soup.find_all('STD_NAME'))"
      ],
      "metadata": {
        "colab": {
          "base_uri": "https://localhost:8080/"
        },
        "id": "L5YzCOqZoyno",
        "outputId": "a21fd4f3-8478-48c4-a8ca-caddd76b74ca"
      },
      "execution_count": null,
      "outputs": [
        {
          "output_type": "stream",
          "name": "stdout",
          "text": [
            "[]\n"
          ]
        }
      ]
    }
  ]
}