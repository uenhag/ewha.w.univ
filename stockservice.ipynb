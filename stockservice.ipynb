{
  "nbformat": 4,
  "nbformat_minor": 0,
  "metadata": {
    "colab": {
      "provenance": [],
      "authorship_tag": "ABX9TyOkcgA+YDhlZrJ+rteN1UFX",
      "include_colab_link": true
    },
    "kernelspec": {
      "name": "python3",
      "display_name": "Python 3"
    },
    "language_info": {
      "name": "python"
    }
  },
  "cells": [
    {
      "cell_type": "markdown",
      "metadata": {
        "id": "view-in-github",
        "colab_type": "text"
      },
      "source": [
        "<a href=\"https://colab.research.google.com/github/uenhag/ewha.w.univ/blob/main/stockservice.ipynb\" target=\"_parent\"><img src=\"https://colab.research.google.com/assets/colab-badge.svg\" alt=\"Open In Colab\"/></a>"
      ]
    },
    {
      "cell_type": "code",
      "source": [
        "import requests\n",
        "\n",
        "url = 'http://api.seibro.or.kr/openapi/service/StockSvc/getKDRSecnInfo'\n",
        "params ={'serviceKey' : 'QtgLAC4ZIkNGBKzhLlt9bqzIqe0jiOLPQVs3KNHbTow6mUW/+8lFm6ho0wPhschGXUbvuDaLc/4RvaRnuG+xLw==', 'caltotMartTpcd' : '12' }\n",
        "\n",
        "response = requests.get(url, params=params)\n",
        "print(response.text)"
      ],
      "metadata": {
        "colab": {
          "base_uri": "https://localhost:8080/"
        },
        "id": "dHfNbp6ONwfN",
        "outputId": "25aec0e5-2350-46c7-b4ad-b7116934e4a0"
      },
      "execution_count": 3,
      "outputs": [
        {
          "output_type": "stream",
          "name": "stdout",
          "text": [
            "<?xml version=\"1.0\" encoding=\"UTF-8\" standalone=\"yes\"?><response><header><resultCode>99</resultCode><resultMsg>SERVICE KEY IS NOT REGISTERED ERROR.</resultMsg></header></response>\n"
          ]
        }
      ]
    }
  ]
}