{
  "nbformat": 4,
  "nbformat_minor": 0,
  "metadata": {
    "colab": {
      "provenance": [],
      "authorship_tag": "ABX9TyOnjQ2Bn3Lag30OXW6s5bcN",
      "include_colab_link": true
    },
    "kernelspec": {
      "name": "python3",
      "display_name": "Python 3"
    },
    "language_info": {
      "name": "python"
    }
  },
  "cells": [
    {
      "cell_type": "markdown",
      "metadata": {
        "id": "view-in-github",
        "colab_type": "text"
      },
      "source": [
        "<a href=\"https://colab.research.google.com/github/uenhag/ewha.w.univ/blob/main/buslocation.ipynb\" target=\"_parent\"><img src=\"https://colab.research.google.com/assets/colab-badge.svg\" alt=\"Open In Colab\"/></a>"
      ]
    },
    {
      "cell_type": "code",
      "execution_count": null,
      "metadata": {
        "id": "Kt7O6PU_N0k9",
        "colab": {
          "base_uri": "https://localhost:8080/"
        },
        "outputId": "7db2248c-ac32-4e0c-c6dc-bc82ee0dee93"
      },
      "outputs": [
        {
          "output_type": "stream",
          "name": "stdout",
          "text": [
            "<?xml version=\"1.0\" encoding=\"UTF-8\" standalone=\"yes\"?><response><comMsgHeader/><msgHeader><queryTime>2024-03-17 17:18:58.086</queryTime><resultCode>0</resultCode><resultMessage>정상적으로 처리되었습니다.</resultMessage></msgHeader><msgBody><busLocationList><endBus>0</endBus><lowPlate>0</lowPlate><plateNo>경기78자8144</plateNo><plateType>3</plateType><remainSeatCnt>23</remainSeatCnt><routeId>231000139</routeId><stationId>121000010</stationId><stationSeq>26</stationSeq></busLocationList><busLocationList><endBus>0</endBus><lowPlate>0</lowPlate><plateNo>경기78자8147</plateNo><plateType>3</plateType><remainSeatCnt>37</remainSeatCnt><routeId>231000139</routeId><stationId>277103443</stationId><stationSeq>15</stationSeq></busLocationList><busLocationList><endBus>0</endBus><lowPlate>0</lowPlate><plateNo>경기78자8145</plateNo><plateType>3</plateType><remainSeatCnt>24</remainSeatCnt><routeId>231000139</routeId><stationId>277104739</stationId><stationSeq>43</stationSeq></busLocationList><busLocationList><endBus>0</endBus><lowPlate>0</lowPlate><plateNo>경기78자8143</plateNo><plateType>3</plateType><remainSeatCnt>40</remainSeatCnt><routeId>231000139</routeId><stationId>231001279</stationId><stationSeq>4</stationSeq></busLocationList></msgBody></response>\n"
          ]
        }
      ],
      "source": [
        "import requests\n",
        "url='http://openapi.gbis.go.kr/ws/rest/buslocationservice?serviceKey=1234567890&routeId=231000139'\n",
        "r = requests.get(url)\n",
        "print(r.text)"
      ]
    },
    {
      "cell_type": "code",
      "source": [
        "from bs4 import BeautifulSoup\n",
        "\n",
        "soup = BeautifulSoup(r.text, features=\"xml\")"
      ],
      "metadata": {
        "id": "WMQySvMXj-by"
      },
      "execution_count": null,
      "outputs": []
    },
    {
      "cell_type": "code",
      "source": [
        "soup.find_all('stationId')"
      ],
      "metadata": {
        "colab": {
          "base_uri": "https://localhost:8080/"
        },
        "id": "duw4mFhNkN5Z",
        "outputId": "fd9c29d0-0a5a-49e9-bd7b-a46a55ac0e98"
      },
      "execution_count": null,
      "outputs": [
        {
          "output_type": "execute_result",
          "data": {
            "text/plain": [
              "[<stationId>121000010</stationId>,\n",
              " <stationId>277103443</stationId>,\n",
              " <stationId>277104739</stationId>,\n",
              " <stationId>231001279</stationId>]"
            ]
          },
          "metadata": {},
          "execution_count": 3
        }
      ]
    },
    {
      "cell_type": "code",
      "source": [
        "print('학번 =', 2476358, '이름 =', '황유정')"
      ],
      "metadata": {
        "colab": {
          "base_uri": "https://localhost:8080/"
        },
        "id": "ZEGkNBpRkSxo",
        "outputId": "a3a589e6-fc0f-4fc1-e160-66120db2a046"
      },
      "execution_count": null,
      "outputs": [
        {
          "output_type": "stream",
          "name": "stdout",
          "text": [
            "학번 = 2476358 이름 = 황유정\n"
          ]
        }
      ]
    }
  ]
}