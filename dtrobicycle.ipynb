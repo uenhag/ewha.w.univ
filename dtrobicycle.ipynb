{
  "nbformat": 4,
  "nbformat_minor": 0,
  "metadata": {
    "colab": {
      "provenance": [],
      "authorship_tag": "ABX9TyPiaKVzmFhfTtQqHkCosdYz",
      "include_colab_link": true
    },
    "kernelspec": {
      "name": "python3",
      "display_name": "Python 3"
    },
    "language_info": {
      "name": "python"
    }
  },
  "cells": [
    {
      "cell_type": "markdown",
      "metadata": {
        "id": "view-in-github",
        "colab_type": "text"
      },
      "source": [
        "<a href=\"https://colab.research.google.com/github/uenhag/ewha.w.univ/blob/main/dtrobicycle.ipynb\" target=\"_parent\"><img src=\"https://colab.research.google.com/assets/colab-badge.svg\" alt=\"Open In Colab\"/></a>"
      ]
    },
    {
      "cell_type": "code",
      "source": [
        "import requests\n",
        "url='https://www.dtro.or.kr/open_content_new/ko/OpenApi/bikelist.php?LINE_NUM=1&STD_CODE=117'\n",
        "r = requests.get(url)\n",
        "print(r.text)"
      ],
      "metadata": {
        "colab": {
          "base_uri": "https://localhost:8080/"
        },
        "id": "seycNAsCn3iW",
        "outputId": "0b4a6592-6743-420e-cb6b-063d51ed7961"
      },
      "execution_count": 11,
      "outputs": [
        {
          "output_type": "stream",
          "name": "stdout",
          "text": [
            "<html><script lang=javascript>\r\n",
            "var width = window.innerWidth || document.documentElement.clientWidth || document.body.clientWidth;var height = window.innerHeight || document.documentElement.clientHeight || document.body.clientHeight;document.cookie = 'sabFingerPrint=' + width + ',' + height + ',' + window.location.hostname;\r\n",
            "document.cookie = 'sabSignature=TOrjf+kZuD+z3s0apzkojQ==';\r\n",
            "window.location.reload();\r\n",
            "</script></html>\r\n",
            "\n"
          ]
        }
      ]
    },
    {
      "cell_type": "code",
      "source": [
        "from bs4 import BeautifulSoup\n",
        "\n",
        "soup = BeautifulSoup(r.text, features=\"xml\")"
      ],
      "metadata": {
        "id": "TdliDMbZolJt"
      },
      "execution_count": 12,
      "outputs": []
    },
    {
      "cell_type": "code",
      "source": [
        "soup.find_all('STD_NAME')"
      ],
      "metadata": {
        "colab": {
          "base_uri": "https://localhost:8080/"
        },
        "id": "L5YzCOqZoyno",
        "outputId": "34a0e485-8977-421b-850b-6927944f753a"
      },
      "execution_count": 13,
      "outputs": [
        {
          "output_type": "execute_result",
          "data": {
            "text/plain": [
              "[]"
            ]
          },
          "metadata": {},
          "execution_count": 13
        }
      ]
    }
  ]
}